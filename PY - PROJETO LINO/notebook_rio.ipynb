{
 "cells": [
  {
   "cell_type": "code",
   "execution_count": 1,
   "metadata": {},
   "outputs": [],
   "source": [
    "import pandas as pd"
   ]
  },
  {
   "cell_type": "code",
   "execution_count": 2,
   "metadata": {},
   "outputs": [],
   "source": [
    "rio = pd.read_csv('agendamento_fase01_rio.csv')"
   ]
  },
  {
   "cell_type": "code",
   "execution_count": 3,
   "metadata": {},
   "outputs": [
    {
     "data": {
      "text/html": [
       "<div>\n",
       "<style scoped>\n",
       "    .dataframe tbody tr th:only-of-type {\n",
       "        vertical-align: middle;\n",
       "    }\n",
       "\n",
       "    .dataframe tbody tr th {\n",
       "        vertical-align: top;\n",
       "    }\n",
       "\n",
       "    .dataframe thead th {\n",
       "        text-align: right;\n",
       "    }\n",
       "</style>\n",
       "<table border=\"1\" class=\"dataframe\">\n",
       "  <thead>\n",
       "    <tr style=\"text-align: right;\">\n",
       "      <th></th>\n",
       "      <th>data</th>\n",
       "      <th>LOCAL</th>\n",
       "      <th>BAIRRO</th>\n",
       "      <th>ESPECIE</th>\n",
       "      <th>cirurgia_realizada</th>\n",
       "    </tr>\n",
       "  </thead>\n",
       "  <tbody>\n",
       "    <tr>\n",
       "      <th>0</th>\n",
       "      <td>2024-02-19</td>\n",
       "      <td>piedade</td>\n",
       "      <td>piedade</td>\n",
       "      <td>canino_m</td>\n",
       "      <td>sim</td>\n",
       "    </tr>\n",
       "    <tr>\n",
       "      <th>1</th>\n",
       "      <td>2024-02-19</td>\n",
       "      <td>piedade</td>\n",
       "      <td>piedade</td>\n",
       "      <td>felino_f</td>\n",
       "      <td>nao</td>\n",
       "    </tr>\n",
       "    <tr>\n",
       "      <th>2</th>\n",
       "      <td>2024-02-19</td>\n",
       "      <td>piedade</td>\n",
       "      <td>piedade</td>\n",
       "      <td>canino_f</td>\n",
       "      <td>sim</td>\n",
       "    </tr>\n",
       "    <tr>\n",
       "      <th>3</th>\n",
       "      <td>2024-02-19</td>\n",
       "      <td>piedade</td>\n",
       "      <td>piedade</td>\n",
       "      <td>felino_f</td>\n",
       "      <td>sim</td>\n",
       "    </tr>\n",
       "    <tr>\n",
       "      <th>4</th>\n",
       "      <td>2024-02-19</td>\n",
       "      <td>piedade</td>\n",
       "      <td>piedade</td>\n",
       "      <td>felino_m</td>\n",
       "      <td>sim</td>\n",
       "    </tr>\n",
       "  </tbody>\n",
       "</table>\n",
       "</div>"
      ],
      "text/plain": [
       "         data    LOCAL   BAIRRO   ESPECIE cirurgia_realizada\n",
       "0  2024-02-19  piedade  piedade  canino_m                sim\n",
       "1  2024-02-19  piedade  piedade  felino_f                nao\n",
       "2  2024-02-19  piedade  piedade  canino_f                sim\n",
       "3  2024-02-19  piedade  piedade  felino_f                sim\n",
       "4  2024-02-19  piedade  piedade  felino_m                sim"
      ]
     },
     "execution_count": 3,
     "metadata": {},
     "output_type": "execute_result"
    }
   ],
   "source": [
    "rio.head()"
   ]
  },
  {
   "cell_type": "code",
   "execution_count": 4,
   "metadata": {},
   "outputs": [
    {
     "data": {
      "text/plain": [
       "Index(['data', 'LOCAL', 'BAIRRO', 'ESPECIE'], dtype='object')"
      ]
     },
     "execution_count": 4,
     "metadata": {},
     "output_type": "execute_result"
    }
   ],
   "source": [
    "rio.columns[:-1]"
   ]
  },
  {
   "cell_type": "code",
   "execution_count": 5,
   "metadata": {},
   "outputs": [
    {
     "data": {
      "text/plain": [
       "1364"
      ]
     },
     "execution_count": 5,
     "metadata": {},
     "output_type": "execute_result"
    }
   ],
   "source": [
    "len(rio)"
   ]
  },
  {
   "cell_type": "code",
   "execution_count": 5,
   "metadata": {},
   "outputs": [
    {
     "data": {
      "text/plain": [
       "0.33"
      ]
     },
     "execution_count": 5,
     "metadata": {},
     "output_type": "execute_result"
    }
   ],
   "source": [
    "dicionario = dict(rio['LOCAL'].value_counts(normalize=True))\n",
    "round(dicionario['guadalupe'],2)"
   ]
  },
  {
   "cell_type": "code",
   "execution_count": 6,
   "metadata": {},
   "outputs": [],
   "source": [
    "locais = rio['LOCAL'].unique()\n"
   ]
  },
  {
   "cell_type": "code",
   "execution_count": 7,
   "metadata": {},
   "outputs": [
    {
     "data": {
      "text/html": [
       "<div>\n",
       "<style scoped>\n",
       "    .dataframe tbody tr th:only-of-type {\n",
       "        vertical-align: middle;\n",
       "    }\n",
       "\n",
       "    .dataframe tbody tr th {\n",
       "        vertical-align: top;\n",
       "    }\n",
       "\n",
       "    .dataframe thead th {\n",
       "        text-align: right;\n",
       "    }\n",
       "</style>\n",
       "<table border=\"1\" class=\"dataframe\">\n",
       "  <thead>\n",
       "    <tr style=\"text-align: right;\">\n",
       "      <th></th>\n",
       "      <th>data</th>\n",
       "      <th>LOCAL</th>\n",
       "      <th>BAIRRO</th>\n",
       "      <th>ESPECIE</th>\n",
       "      <th>cirurgia_realizada</th>\n",
       "    </tr>\n",
       "  </thead>\n",
       "  <tbody>\n",
       "    <tr>\n",
       "      <th>37</th>\n",
       "      <td>2024-02-20</td>\n",
       "      <td>antares</td>\n",
       "      <td>antares</td>\n",
       "      <td>canino_f</td>\n",
       "      <td>sim</td>\n",
       "    </tr>\n",
       "    <tr>\n",
       "      <th>38</th>\n",
       "      <td>2024-02-20</td>\n",
       "      <td>antares</td>\n",
       "      <td>santa cruz</td>\n",
       "      <td>canino_m</td>\n",
       "      <td>sim</td>\n",
       "    </tr>\n",
       "    <tr>\n",
       "      <th>39</th>\n",
       "      <td>2024-02-20</td>\n",
       "      <td>antares</td>\n",
       "      <td>santa cruz</td>\n",
       "      <td>felino_f</td>\n",
       "      <td>sim</td>\n",
       "    </tr>\n",
       "    <tr>\n",
       "      <th>40</th>\n",
       "      <td>2024-02-20</td>\n",
       "      <td>antares</td>\n",
       "      <td>santa cruz</td>\n",
       "      <td>felino_m</td>\n",
       "      <td>sim</td>\n",
       "    </tr>\n",
       "    <tr>\n",
       "      <th>41</th>\n",
       "      <td>2024-02-20</td>\n",
       "      <td>antares</td>\n",
       "      <td>antares</td>\n",
       "      <td>felino_m</td>\n",
       "      <td>sim</td>\n",
       "    </tr>\n",
       "    <tr>\n",
       "      <th>...</th>\n",
       "      <td>...</td>\n",
       "      <td>...</td>\n",
       "      <td>...</td>\n",
       "      <td>...</td>\n",
       "      <td>...</td>\n",
       "    </tr>\n",
       "    <tr>\n",
       "      <th>609</th>\n",
       "      <td>2024-03-19</td>\n",
       "      <td>antares</td>\n",
       "      <td>santa cruz</td>\n",
       "      <td>felino_f</td>\n",
       "      <td>sim</td>\n",
       "    </tr>\n",
       "    <tr>\n",
       "      <th>610</th>\n",
       "      <td>2024-03-19</td>\n",
       "      <td>antares</td>\n",
       "      <td>santa cruz</td>\n",
       "      <td>felino_m</td>\n",
       "      <td>sim</td>\n",
       "    </tr>\n",
       "    <tr>\n",
       "      <th>611</th>\n",
       "      <td>2024-03-19</td>\n",
       "      <td>antares</td>\n",
       "      <td>santa cruz</td>\n",
       "      <td>felino_f</td>\n",
       "      <td>sim</td>\n",
       "    </tr>\n",
       "    <tr>\n",
       "      <th>612</th>\n",
       "      <td>2024-03-19</td>\n",
       "      <td>antares</td>\n",
       "      <td>santa cruz</td>\n",
       "      <td>felino_m</td>\n",
       "      <td>nao</td>\n",
       "    </tr>\n",
       "    <tr>\n",
       "      <th>613</th>\n",
       "      <td>2024-03-19</td>\n",
       "      <td>antares</td>\n",
       "      <td>santa cruz</td>\n",
       "      <td>felino_m</td>\n",
       "      <td>sim</td>\n",
       "    </tr>\n",
       "  </tbody>\n",
       "</table>\n",
       "<p>332 rows × 5 columns</p>\n",
       "</div>"
      ],
      "text/plain": [
       "           data    LOCAL      BAIRRO   ESPECIE cirurgia_realizada\n",
       "37   2024-02-20  antares     antares  canino_f                sim\n",
       "38   2024-02-20  antares  santa cruz  canino_m                sim\n",
       "39   2024-02-20  antares  santa cruz  felino_f                sim\n",
       "40   2024-02-20  antares  santa cruz  felino_m                sim\n",
       "41   2024-02-20  antares     antares  felino_m                sim\n",
       "..          ...      ...         ...       ...                ...\n",
       "609  2024-03-19  antares  santa cruz  felino_f                sim\n",
       "610  2024-03-19  antares  santa cruz  felino_m                sim\n",
       "611  2024-03-19  antares  santa cruz  felino_f                sim\n",
       "612  2024-03-19  antares  santa cruz  felino_m                nao\n",
       "613  2024-03-19  antares  santa cruz  felino_m                sim\n",
       "\n",
       "[332 rows x 5 columns]"
      ]
     },
     "execution_count": 7,
     "metadata": {},
     "output_type": "execute_result"
    }
   ],
   "source": [
    "rio.loc[rio['LOCAL']==locais[1]]"
   ]
  },
  {
   "cell_type": "code",
   "execution_count": 8,
   "metadata": {},
   "outputs": [
    {
     "data": {
      "text/plain": [
       "852"
      ]
     },
     "execution_count": 8,
     "metadata": {},
     "output_type": "execute_result"
    }
   ],
   "source": [
    "cirurgias = pd.DataFrame(round(rio['cirurgia_realizada'].value_counts(),2)).reset_index()\n",
    "cirurgias['count'][0]"
   ]
  },
  {
   "cell_type": "code",
   "execution_count": 9,
   "metadata": {},
   "outputs": [],
   "source": [
    "eficacia = pd.DataFrame(rio.groupby(by='data').value_counts()/5).reset_index()"
   ]
  },
  {
   "cell_type": "code",
   "execution_count": 10,
   "metadata": {},
   "outputs": [],
   "source": [
    "eficacia.to_csv('rio_agendamentos_eficacia.csv')"
   ]
  },
  {
   "cell_type": "markdown",
   "metadata": {},
   "source": [
    "### Ajustando os dados de saída para o streamlit"
   ]
  },
  {
   "cell_type": "code",
   "execution_count": 41,
   "metadata": {},
   "outputs": [
    {
     "data": {
      "text/html": [
       "<div>\n",
       "<style scoped>\n",
       "    .dataframe tbody tr th:only-of-type {\n",
       "        vertical-align: middle;\n",
       "    }\n",
       "\n",
       "    .dataframe tbody tr th {\n",
       "        vertical-align: top;\n",
       "    }\n",
       "\n",
       "    .dataframe thead th {\n",
       "        text-align: right;\n",
       "    }\n",
       "</style>\n",
       "<table border=\"1\" class=\"dataframe\">\n",
       "  <thead>\n",
       "    <tr style=\"text-align: right;\">\n",
       "      <th></th>\n",
       "      <th>data</th>\n",
       "      <th>LOCAL</th>\n",
       "      <th>BAIRRO</th>\n",
       "      <th>ESPECIE</th>\n",
       "      <th>cirurgia_realizada</th>\n",
       "    </tr>\n",
       "  </thead>\n",
       "  <tbody>\n",
       "    <tr>\n",
       "      <th>614</th>\n",
       "      <td>2024-03-25</td>\n",
       "      <td>guadalupe</td>\n",
       "      <td>guadalupe</td>\n",
       "      <td>felino_m</td>\n",
       "      <td>nao</td>\n",
       "    </tr>\n",
       "    <tr>\n",
       "      <th>615</th>\n",
       "      <td>2024-03-25</td>\n",
       "      <td>guadalupe</td>\n",
       "      <td>guadalupe</td>\n",
       "      <td>felino_m</td>\n",
       "      <td>nao</td>\n",
       "    </tr>\n",
       "    <tr>\n",
       "      <th>616</th>\n",
       "      <td>2024-03-25</td>\n",
       "      <td>guadalupe</td>\n",
       "      <td>guadalupe</td>\n",
       "      <td>felino_m</td>\n",
       "      <td>nao</td>\n",
       "    </tr>\n",
       "    <tr>\n",
       "      <th>617</th>\n",
       "      <td>2024-03-25</td>\n",
       "      <td>guadalupe</td>\n",
       "      <td>guadalupe</td>\n",
       "      <td>felino_f</td>\n",
       "      <td>nao</td>\n",
       "    </tr>\n",
       "    <tr>\n",
       "      <th>618</th>\n",
       "      <td>2024-03-25</td>\n",
       "      <td>guadalupe</td>\n",
       "      <td>guadalupe</td>\n",
       "      <td>canino_m</td>\n",
       "      <td>nao</td>\n",
       "    </tr>\n",
       "    <tr>\n",
       "      <th>...</th>\n",
       "      <td>...</td>\n",
       "      <td>...</td>\n",
       "      <td>...</td>\n",
       "      <td>...</td>\n",
       "      <td>...</td>\n",
       "    </tr>\n",
       "    <tr>\n",
       "      <th>1064</th>\n",
       "      <td>2024-04-30</td>\n",
       "      <td>guadalupe</td>\n",
       "      <td>costa barros</td>\n",
       "      <td>felino_f</td>\n",
       "      <td>nao</td>\n",
       "    </tr>\n",
       "    <tr>\n",
       "      <th>1065</th>\n",
       "      <td>2024-04-30</td>\n",
       "      <td>guadalupe</td>\n",
       "      <td>guadalupe</td>\n",
       "      <td>felino_f</td>\n",
       "      <td>nao</td>\n",
       "    </tr>\n",
       "    <tr>\n",
       "      <th>1066</th>\n",
       "      <td>2024-04-30</td>\n",
       "      <td>guadalupe</td>\n",
       "      <td>guadalupe</td>\n",
       "      <td>canino_m</td>\n",
       "      <td>sim</td>\n",
       "    </tr>\n",
       "    <tr>\n",
       "      <th>1067</th>\n",
       "      <td>2024-04-30</td>\n",
       "      <td>guadalupe</td>\n",
       "      <td>anchieta</td>\n",
       "      <td>canino_f</td>\n",
       "      <td>sim</td>\n",
       "    </tr>\n",
       "    <tr>\n",
       "      <th>1264</th>\n",
       "      <td>2024-05-22</td>\n",
       "      <td>guadalupe</td>\n",
       "      <td>bangu</td>\n",
       "      <td>felino_f</td>\n",
       "      <td>sim</td>\n",
       "    </tr>\n",
       "  </tbody>\n",
       "</table>\n",
       "<p>454 rows × 5 columns</p>\n",
       "</div>"
      ],
      "text/plain": [
       "            data      LOCAL        BAIRRO   ESPECIE cirurgia_realizada\n",
       "614   2024-03-25  guadalupe     guadalupe  felino_m                nao\n",
       "615   2024-03-25  guadalupe     guadalupe  felino_m                nao\n",
       "616   2024-03-25  guadalupe     guadalupe  felino_m                nao\n",
       "617   2024-03-25  guadalupe     guadalupe  felino_f                nao\n",
       "618   2024-03-25  guadalupe     guadalupe  canino_m                nao\n",
       "...          ...        ...           ...       ...                ...\n",
       "1064  2024-04-30  guadalupe  costa barros  felino_f                nao\n",
       "1065  2024-04-30  guadalupe     guadalupe  felino_f                nao\n",
       "1066  2024-04-30  guadalupe     guadalupe  canino_m                sim\n",
       "1067  2024-04-30  guadalupe      anchieta  canino_f                sim\n",
       "1264  2024-05-22  guadalupe         bangu  felino_f                sim\n",
       "\n",
       "[454 rows x 5 columns]"
      ]
     },
     "execution_count": 41,
     "metadata": {},
     "output_type": "execute_result"
    }
   ],
   "source": [
    "escolha = list(rio['LOCAL'].unique())\n",
    "rio.loc[rio['LOCAL']==escolha[2]]"
   ]
  },
  {
   "cell_type": "code",
   "execution_count": 14,
   "metadata": {},
   "outputs": [],
   "source": [
    "def teste():    \n",
    "    sub_df = dict(rio)\n",
    "    return sub_df "
   ]
  },
  {
   "cell_type": "code",
   "execution_count": 18,
   "metadata": {},
   "outputs": [
    {
     "data": {
      "text/html": [
       "<div>\n",
       "<style scoped>\n",
       "    .dataframe tbody tr th:only-of-type {\n",
       "        vertical-align: middle;\n",
       "    }\n",
       "\n",
       "    .dataframe tbody tr th {\n",
       "        vertical-align: top;\n",
       "    }\n",
       "\n",
       "    .dataframe thead th {\n",
       "        text-align: right;\n",
       "    }\n",
       "</style>\n",
       "<table border=\"1\" class=\"dataframe\">\n",
       "  <thead>\n",
       "    <tr style=\"text-align: right;\">\n",
       "      <th></th>\n",
       "      <th>data</th>\n",
       "      <th>LOCAL</th>\n",
       "      <th>BAIRRO</th>\n",
       "      <th>ESPECIE</th>\n",
       "      <th>cirurgia_realizada</th>\n",
       "    </tr>\n",
       "  </thead>\n",
       "  <tbody>\n",
       "    <tr>\n",
       "      <th>0</th>\n",
       "      <td>2024-02-19</td>\n",
       "      <td>piedade</td>\n",
       "      <td>piedade</td>\n",
       "      <td>canino_m</td>\n",
       "      <td>sim</td>\n",
       "    </tr>\n",
       "  </tbody>\n",
       "</table>\n",
       "</div>"
      ],
      "text/plain": [
       "         data    LOCAL   BAIRRO   ESPECIE cirurgia_realizada\n",
       "0  2024-02-19  piedade  piedade  canino_m                sim"
      ]
     },
     "execution_count": 18,
     "metadata": {},
     "output_type": "execute_result"
    }
   ],
   "source": [
    "#teste1 = teste()\n",
    "teste1 = pd.DataFrame(teste())\n",
    "teste1.head(1)"
   ]
  },
  {
   "cell_type": "code",
   "execution_count": 23,
   "metadata": {},
   "outputs": [
    {
     "data": {
      "text/plain": [
       "{'felino_m': np.int64(389),\n",
       " 'canino_f': np.int64(344),\n",
       " 'felino_f': np.int64(340),\n",
       " 'canino_m': np.int64(291)}"
      ]
     },
     "execution_count": 23,
     "metadata": {},
     "output_type": "execute_result"
    }
   ],
   "source": [
    "dict(teste1['ESPECIE'].value_counts())"
   ]
  },
  {
   "cell_type": "code",
   "execution_count": 24,
   "metadata": {},
   "outputs": [
    {
     "data": {
      "text/plain": [
       "64"
      ]
     },
     "execution_count": 24,
     "metadata": {},
     "output_type": "execute_result"
    }
   ],
   "source": [
    "len(teste1['data'].unique())"
   ]
  },
  {
   "cell_type": "code",
   "execution_count": 29,
   "metadata": {},
   "outputs": [
    {
     "data": {
      "text/html": [
       "<div>\n",
       "<style scoped>\n",
       "    .dataframe tbody tr th:only-of-type {\n",
       "        vertical-align: middle;\n",
       "    }\n",
       "\n",
       "    .dataframe tbody tr th {\n",
       "        vertical-align: top;\n",
       "    }\n",
       "\n",
       "    .dataframe thead th {\n",
       "        text-align: right;\n",
       "    }\n",
       "</style>\n",
       "<table border=\"1\" class=\"dataframe\">\n",
       "  <thead>\n",
       "    <tr style=\"text-align: right;\">\n",
       "      <th></th>\n",
       "      <th>ESPECIE</th>\n",
       "      <th>count</th>\n",
       "    </tr>\n",
       "  </thead>\n",
       "  <tbody>\n",
       "    <tr>\n",
       "      <th>0</th>\n",
       "      <td>felino_m</td>\n",
       "      <td>264</td>\n",
       "    </tr>\n",
       "    <tr>\n",
       "      <th>1</th>\n",
       "      <td>felino_f</td>\n",
       "      <td>212</td>\n",
       "    </tr>\n",
       "    <tr>\n",
       "      <th>2</th>\n",
       "      <td>canino_f</td>\n",
       "      <td>206</td>\n",
       "    </tr>\n",
       "    <tr>\n",
       "      <th>3</th>\n",
       "      <td>canino_m</td>\n",
       "      <td>170</td>\n",
       "    </tr>\n",
       "  </tbody>\n",
       "</table>\n",
       "</div>"
      ],
      "text/plain": [
       "    ESPECIE  count\n",
       "0  felino_m    264\n",
       "1  felino_f    212\n",
       "2  canino_f    206\n",
       "3  canino_m    170"
      ]
     },
     "execution_count": 29,
     "metadata": {},
     "output_type": "execute_result"
    }
   ],
   "source": [
    "sim_df = teste1.loc[teste1['cirurgia_realizada']=='sim']\n",
    "cirurgias1 = pd.DataFrame(sim_df['ESPECIE'].value_counts()).reset_index()\n",
    "cirurgias1"
   ]
  },
  {
   "cell_type": "code",
   "execution_count": 35,
   "metadata": {},
   "outputs": [],
   "source": [
    "list1 = ['total']\n",
    "list2 = cirurgias1['ESPECIE'].unique()\n",
    "lista = list1.extend(list2)"
   ]
  },
  {
   "cell_type": "code",
   "execution_count": 37,
   "metadata": {},
   "outputs": [
    {
     "data": {
      "text/plain": [
       "['total', 'felino_m', 'felino_f', 'canino_f', 'canino_m']"
      ]
     },
     "execution_count": 37,
     "metadata": {},
     "output_type": "execute_result"
    }
   ],
   "source": [
    "list1"
   ]
  }
 ],
 "metadata": {
  "kernelspec": {
   "display_name": ".virtual",
   "language": "python",
   "name": "python3"
  },
  "language_info": {
   "codemirror_mode": {
    "name": "ipython",
    "version": 3
   },
   "file_extension": ".py",
   "mimetype": "text/x-python",
   "name": "python",
   "nbconvert_exporter": "python",
   "pygments_lexer": "ipython3",
   "version": "3.10.12"
  }
 },
 "nbformat": 4,
 "nbformat_minor": 2
}
